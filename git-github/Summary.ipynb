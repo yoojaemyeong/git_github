{
 "cells": [
  {
   "attachments": {
    "accadc68-f340-428c-a652-6a428bd139a7.png": {
     "image/png": "[encoded data removed]"
    }
   },
   "cell_type": "markdown",
   "id": "12fef0ba-9e66-433e-a650-94dfda685cc1",
   "metadata": {},
   "source": [
    "## 저장소 초기화\n",
    "<span style=\"color:blue;background-color:white;border-bottom:1px dotted #505050;font-size:18px;font-weight:bold;\">  \n",
    "    \n",
    "`git init` 초기화<br>\n",
    "`git clone [저장소 URL]` 원격 저장소 복사해 오기<br>\n",
    "</span>\n",
    "\n",
    "## 환경설정\n",
    "<span style=\"color:blue;background-color:white;border-bottom:1px dotted #505050;font-size:18px;font-weight:bold;\">  \n",
    "    \n",
    "`git config --global user.name` &quot;your name&quot;  이름지정 <br>\n",
    "`git config --global user.email` &quot;your@mail&quot;  이메일지정 <br>\n",
    "`git config --global color.ui auto`    CLI에서 Git을 컬러플하게 <br>\n",
    "`git config --system credential.helper`  또는 `git config credential.helper`  manager ( 시스템의 자격증명 )<br>\n",
    "`git config --global credential.helper 'cache --timeout=초단위'`   정한 시간동안 자격증명 저장<br>\n",
    "`git config --global credential.helper 'store --file ~/.git-cred'`  지정한 파일에 자격증명 영구적으로 저장<br>   \n",
    "</span>  \n",
    "\n",
    "\n",
    "## staging, commit\n",
    "<span style=\"color:blue;background-color:white;border-bottom:1px dotted #505050;font-size:18px;font-weight:bold;\">  \n",
    "    \n",
    "`git status` 현재 저장소 상태보기<br>\n",
    "`git add [파일명]` 작업 파일 stage에 올리기<br>\n",
    "`git reset [파일명]` stage에 올라간 작업 파일 내리기<br>\n",
    "`git reset --hard [파일명]` stage에 올라간 작업 파일 완전히 삭제하기<br>\n",
    "`git diff` stage에 없는 변경 사항 보기<br>\n",
    "`git diff --staged` stage에 있지만, 커밋되지 않는 변경 사항 보기<br>\n",
    "`git commit -m 메시지` stage에 올라간 내용 커밋하기<br>\n",
    "</span>\n",
    "\n",
    "## branch, merge\n",
    "<span style=\"color:blue;background-color:white;border-bottom:1px dotted #505050;font-size:18px;font-weight:bold;\">  \n",
    "    \n",
    "`git branch` 로컬 브랜치 목록 보기<br>\n",
    "`git branch [새 브랜치명]` 현재 커밋에서 브랜치 만들기<br>\n",
    "`git branch -M [브랜치명]` 현재 브랜치명 이름 바꾸기<br>\n",
    "`git switch [브랜치명]` 브랜치 변경하기<br>\n",
    "`git merge [브랜치]` 현재 브랜치와 지정된 브랜치 병합하기<br>\n",
    "`git rebase [브랜치]` 현재 브랜치를 지정된 브랜치 위로 재배치하기<br>\n",
    "`git reset --hard [커밋 체크섬]` 특정 체크섬으로 현재 브랜치 리셋(되감기)<br>\n",
    "</span>  \n",
    "![image.png](attachment:accadc68-f340-428c-a652-6a428bd139a7.png) \n",
    "\n",
    "## 로그보기\n",
    "<span style=\"color:blue;background-color:white;border-bottom:1px dotted #505050;font-size:18px;font-weight:bold;\">  \n",
    "    \n",
    "`git log` 현재 로그 보기<br>\n",
    "`git log --oneline --all --graph --decorate` 한줄, 모두, 그래프로, 멋스럽게<br>\n",
    "`git log branchB..branchA` 두 브랜치 차이점 보기<br>\n",
    "`git diff branchB..branchA` 위와 동일<br>\n",
    "`git log --follow [파일명]` 파일의 히스토리 보기<br>\n",
    "`git show [오브젝트 체크섬]` 오브젝트 정보 보기<br>\n",
    "</span>\n",
    "\n",
    "## 업로드, 업데이트\n",
    "<span style=\"color:blue;background-color:white;border-bottom:1px dotted #505050;font-size:18px;font-weight:bold;\">  \n",
    "    \n",
    "`git remote add [별칭] [URL]` 별칭 이름으로 원격저장소 추가하기<br>  \n",
    "`git fetch [별칭]` 특정 원격저장소만 업데이트<br>\n",
    "`git merge [별칭]/[브랜치명]` 원격저장소의 브랜치를 현재 브랜치에 병합하기<br>\n",
    "`git push [별칭] [브랜치]` 원격저장소 브랜치로 업로드하기<br>\n",
    "`git pull` 원격저장소에서 커밋을 가져와 동시에 병합하기<br>\n",
    "</span>\n"
   ]
  },
  {
   "cell_type": "code",
   "execution_count": null,
   "id": "b7d16cff-936b-4c28-8000-a0d0e1cbe60b",
   "metadata": {},
   "outputs": [],
   "source": []
  }
 ],
 "metadata": {
  "kernelspec": {
   "display_name": "C",
   "language": "c",
   "name": "c"
  },
  "language_info": {
   "file_extension": ".c",
   "mimetype": "text/plain",
   "name": "c"
  }
 },
 "nbformat": 4,
 "nbformat_minor": 5
}
